{
 "cells": [
  {
   "cell_type": "markdown",
   "metadata": {},
   "source": [
    "#  NLP-lab :  Word embeddings\n",
    "\n",
    "In this series of exercises, we will explore three word embeddings:\n",
    "\n",
    "* [Collobert & Weston](http://www.jmlr.org/papers/volume12/collobert11a/collobert11a.pdf) https://ronan.collobert.com/senna/\n",
    "* [Word2Vec](https://arxiv.org/abs/1301.3781)\n",
    "* [BERT](https://huggingface.co/bert-base-uncased) \n",
    "\n",
    "\n",
    "In the code already provided, add your code to the place indicated by `YOUR CODE HERE`.\n",
    "\n",
    "**Important** : do NOT commit the data and embedding files in your repository git : it is a waste of resources and it takes more time to clone.\n",
    "> Use https://docs.github.com/en/get-started/getting-started-with-git/ignoring-files\n"
   ]
  },
  {
   "cell_type": "code",
   "execution_count": 2,
   "metadata": {},
   "outputs": [],
   "source": [
    "# basic imports\n",
    "import os\n",
    "import matplotlib.pyplot as plt\n",
    "# display matplotlib graphics in notebook\n",
    "%matplotlib inline \n",
    "import seaborn as sns\n",
    "\n",
    "# disable warnings for libraries\n",
    "import warnings\n",
    "warnings.filterwarnings(\"ignore\")\n",
    "\n",
    "# configure logger\n",
    "import logging\n",
    "logging.basicConfig(format='%(asctime)s %(levelname)s:%(message)s', level=logging.INFO, datefmt='%I:%M:%S')\n",
    "logger = logging.getLogger(__name__)\n"
   ]
  },
  {
   "cell_type": "markdown",
   "metadata": {},
   "source": [
    "###  Embeddings exploration with Collobert's embeddings\n",
    "\n",
    "Upload the files containing the embeddings to `data`:\n",
    "* Collobert (size 50): [collobert_embeddings.txt.zip](https://storage.teklia.com/shared/deepnlp-labs/collobert_embeddings.txt.zip) which contains the embedding vectors and [collobert_words.lst](https://storage.teklia.com/shared/deepnlp-labs/collobert_words.lst) which contains the associated words;\n",
    "\n",
    "You need to unzip the files to load them.\n",
    "\n",
    "Feel free to open the files to see what they contain (it's sometimes surprising).\n",
    "\n",
    "#### Question: \n",
    ">* Add the files to your .gitignore\n",
    ">* Give the size in Mb of the embeddings files before unzipping.\n",
    ">* By exploring the content of the embedding files, give the number of words for which these files provide embeddings.\n",
    "\n",
    "\n",
    "### Answer:\n",
    "> - collobert_embeddings.txt.zip: 24.9 Mo\n",
    "> - collobert_words.lst: 1.1 Mo\n",
    "> - Loaded 130000 words with embeddings of dimension 50"
   ]
  },
  {
   "cell_type": "code",
   "execution_count": 5,
   "metadata": {},
   "outputs": [
    {
     "name": "stdout",
     "output_type": "stream",
     "text": [
      "/Users/Corentin/Desktop/ENSAE 2024-2025/S2/NLP\n"
     ]
    },
    {
     "ename": "FileNotFoundError",
     "evalue": "[Errno 2] No such file or directory: '../nlp-lab-text-embedding'",
     "output_type": "error",
     "traceback": [
      "\u001b[0;31m---------------------------------------------------------------------------\u001b[0m",
      "\u001b[0;31mFileNotFoundError\u001b[0m                         Traceback (most recent call last)",
      "\u001b[0;32m/var/folders/ls/kz9r5k393xg8d3p1krqjx50m0000gn/T/ipykernel_57480/1458777714.py\u001b[0m in \u001b[0;36m<cell line: 0>\u001b[0;34m()\u001b[0m\n\u001b[1;32m      1\u001b[0m \u001b[0;32mimport\u001b[0m \u001b[0mos\u001b[0m\u001b[0;34m\u001b[0m\u001b[0;34m\u001b[0m\u001b[0m\n\u001b[1;32m      2\u001b[0m \u001b[0mprint\u001b[0m\u001b[0;34m(\u001b[0m\u001b[0mos\u001b[0m\u001b[0;34m.\u001b[0m\u001b[0mgetcwd\u001b[0m\u001b[0;34m(\u001b[0m\u001b[0;34m)\u001b[0m\u001b[0;34m)\u001b[0m\u001b[0;34m\u001b[0m\u001b[0;34m\u001b[0m\u001b[0m\n\u001b[0;32m----> 3\u001b[0;31m \u001b[0mos\u001b[0m\u001b[0;34m.\u001b[0m\u001b[0mchdir\u001b[0m\u001b[0;34m(\u001b[0m\u001b[0;34m'../nlp-lab-text-embedding'\u001b[0m\u001b[0;34m)\u001b[0m\u001b[0;34m\u001b[0m\u001b[0;34m\u001b[0m\u001b[0m\n\u001b[0m\u001b[1;32m      4\u001b[0m \u001b[0mprint\u001b[0m\u001b[0;34m(\u001b[0m\u001b[0mos\u001b[0m\u001b[0;34m.\u001b[0m\u001b[0mgetcwd\u001b[0m\u001b[0;34m(\u001b[0m\u001b[0;34m)\u001b[0m\u001b[0;34m)\u001b[0m\u001b[0;34m\u001b[0m\u001b[0;34m\u001b[0m\u001b[0m\n",
      "\u001b[0;31mFileNotFoundError\u001b[0m: [Errno 2] No such file or directory: '../nlp-lab-text-embedding'"
     ]
    }
   ],
   "source": [
    "import os\n",
    "print(os.getcwd())\n",
    "os.chdir('../nlp-lab-text-embedding')\n",
    "print(os.getcwd())"
   ]
  },
  {
   "cell_type": "markdown",
   "metadata": {},
   "source": [
    "### List of closest words\n",
    "\n",
    "The aim of this exercise is to list the closest words to a given word for the Collobert embedding. First, we'll load the vectors of the Collobert embedding into a numpy array and the associated words into a python list. Then we'll use the [scipy KDTree](https://docs.scipy.org/doc/scipy/reference/generated/scipy.spatial.KDTree.html) data structure to quickly search for the vectors closest to a series of words.\n",
    "\n",
    "\n",
    "#### Question: \n",
    ">* load embedding vectors from the file `data/collobert_embeddings.txt` using the numpy function [genfromtxt](https://numpy.org/doc/stable/reference/generated/numpy.genfromtxt.html)\n",
    ">* load the words associated with the vectors from the `data/collobert_words.lst` file into a python list (using `open()` and `readlines()`)\n",
    ">* check that the sizes are correct\n"
   ]
  },
  {
   "cell_type": "code",
   "execution_count": 43,
   "metadata": {},
   "outputs": [],
   "source": [
    "import numpy as np\n",
    "import re\n",
    "\n",
    "# YOUR CODE HERE\n",
    "\n",
    "def load_data() -> tuple[list[str], np.ndarray]:\n",
    "    \"\"\"Loads words and their corresponding embeddings from files.\n",
    "    \n",
    "    Returns:\n",
    "        tuple: A tuple containing:\n",
    "            - A list of words.\n",
    "            - A NumPy array of embeddings.\n",
    "    \n",
    "    Raises:\n",
    "        ValueError: If the number of words and embeddings do not match.\n",
    "    \"\"\"\n",
    "    \n",
    "    ### words\n",
    "    with open(\"data/collobert_words.lst\", \"r\", encoding=\"utf-8\") as file:\n",
    "        lines = file.readlines()\n",
    "\n",
    "    words = [re.sub(r\"^''|''$\", \"\", line.strip()) for line in lines if line.strip()]\n",
    "\n",
    "\n",
    "    ### embeddings\n",
    "    embeddings = np.genfromtxt(\"data/collobert_embeddings.txt\", dtype=np.float32)\n",
    "\n",
    "    ### check \n",
    "    if len(words) != len(embeddings):\n",
    "        raise ValueError(f\"Size mismatch: {len(words)} words vs {len(embeddings)} embeddings\")\n",
    "\n",
    "    print(f\"Loaded {len(words)} words with embeddings of dimension {embeddings.shape[1]}\")\n",
    "\n",
    "    return words, embeddings\n"
   ]
  },
  {
   "cell_type": "code",
   "execution_count": 44,
   "metadata": {},
   "outputs": [
    {
     "name": "stdout",
     "output_type": "stream",
     "text": [
      "Loaded 130000 words with embeddings of dimension 50\n"
     ]
    }
   ],
   "source": [
    "words, embeddings = load_data()"
   ]
  },
  {
   "cell_type": "code",
   "execution_count": 45,
   "metadata": {},
   "outputs": [
    {
     "name": "stdout",
     "output_type": "stream",
     "text": [
      "['!', '!_____!____________!_____!_____!_______!_____!_______!______', '\"', '#', '####', '#0', '#0&btr', '#aaa', '#n', '#value', '$', '%', '&', '&money', \"'\", '', \"'\", \"'0\", \"'the\", '0', 'a', 'admiral', 'alabama', 'angel', 'ark', 'arleigh', 'b', 'balao', 'banksia', 'big']\n",
      "[-1.03682    1.77856   -0.693547   1.5948     1.5799     0.859243\n",
      "  1.15221   -0.976317   0.745304  -0.494589   0.308086   0.25239\n",
      " -0.1976     1.26203    0.813864  -0.940734  -0.215163   0.11645\n",
      "  0.525697   1.95766    0.394232   1.27717    0.710788  -0.389351\n",
      "  0.161775  -0.106038   1.14148    0.607948   0.189781  -1.06022\n",
      "  0.280702   0.0251156 -0.198067   2.33027    0.408584   0.350751\n",
      " -0.351293   1.77318   -0.723457  -0.13806   -1.47247    0.541779\n",
      " -2.57005   -0.227714  -0.817816  -0.552209   0.360149  -0.10278\n",
      " -0.36428   -0.64853  ]\n"
     ]
    }
   ],
   "source": [
    "print(words[:30])\n",
    "print(embeddings[0])"
   ]
  },
  {
   "cell_type": "markdown",
   "metadata": {},
   "source": [
    "KD trees are a very efficient data structure for storing large sets of points in a multi-dimensional space and performing very efficient nearest-neighbour searches. \n",
    "\n",
    "#### Question \n",
    "> * Initialise the [KDTree](https://docs.scipy.org/doc/scipy/reference/generated/scipy.spatial.KDTree.html) structure with Collobert's embedding vectors.\n",
    "> * Using the [tree.query](https://docs.scipy.org/doc/scipy/reference/generated/scipy.spatial.KDTree.query.html#scipy.spatial.KDTree.query) function, display the 5 nearest words for the following words: ‘mother’, ‘computer’, ‘dentist’, ‘war’, ‘president’, ‘secretary’, ‘nurse’.  *Hint: you can use the function `collobert_words.index(w)` to obtain the index of a word in the list of words*.\n",
    "> * Create a `words_plus_neighbors` list containing the words and all their neighbours (for the next question)"
   ]
  },
  {
   "cell_type": "code",
   "execution_count": 47,
   "metadata": {},
   "outputs": [],
   "source": [
    "import numpy as np\n",
    "from scipy.spatial import KDTree\n",
    "# YOUR CODE HERE\n",
    "\n",
    "# KDTree\n",
    "kdtree = KDTree(embeddings)\n",
    "query_words = ['mother', 'computer', 'dentist', 'war', 'president', 'secretary', 'nurse']\n"
   ]
  },
  {
   "cell_type": "code",
   "execution_count": 62,
   "metadata": {},
   "outputs": [
    {
     "name": "stdout",
     "output_type": "stream",
     "text": [
      "mother: daughter, wife, father, husband, son\n",
      "computer: laptop, multimedia, desktop, software, wiki\n",
      "dentist: pharmacist, midwife, physician, housekeeper, veterinarian\n",
      "war: revolution, death, court, independence, history\n",
      "president: governor, chairman, mayor, secretary, senator\n",
      "secretary: minister, treasurer, chairman, commissioner, undersecretary\n",
      "nurse: physician, veterinarian, dentist, surgeon, midwife\n"
     ]
    }
   ],
   "source": [
    "query_words = ['mother', 'computer', 'dentist', 'war', 'president', 'secretary', 'nurse']\n",
    "\n",
    "### Trouver les 5 plus proches voisins pour chaque mot\n",
    "words_plus_neighbors = {}\n",
    "\n",
    "for word in query_words:\n",
    "    if word in words:\n",
    "        index = words.index(word)\n",
    "        distances, indices = kdtree.query(embeddings[index], k=6)  # k=6 in order to include the word itself\n",
    "        neighbors = [words[i] for i in indices if words[i] != word]\n",
    "        words_plus_neighbors[word] = neighbors\n",
    "    else:\n",
    "        print(f\"{word} not found in the vocabulary.\")\n",
    "\n",
    "### print the answer\n",
    "for word, neighbors in words_plus_neighbors.items():\n",
    "    print(f\"{word}: {', '.join(neighbors)}\")"
   ]
  },
  {
   "cell_type": "code",
   "execution_count": 63,
   "metadata": {},
   "outputs": [
    {
     "data": {
      "text/plain": [
       "['mother',\n",
       " 'computer',\n",
       " 'dentist',\n",
       " 'war',\n",
       " 'president',\n",
       " 'secretary',\n",
       " 'nurse',\n",
       " 'daughter',\n",
       " 'wife',\n",
       " 'father',\n",
       " 'husband',\n",
       " 'son',\n",
       " 'laptop',\n",
       " 'multimedia',\n",
       " 'desktop',\n",
       " 'software',\n",
       " 'wiki',\n",
       " 'pharmacist',\n",
       " 'midwife',\n",
       " 'physician',\n",
       " 'housekeeper',\n",
       " 'veterinarian',\n",
       " 'revolution',\n",
       " 'death',\n",
       " 'court',\n",
       " 'independence',\n",
       " 'history',\n",
       " 'governor',\n",
       " 'chairman',\n",
       " 'mayor',\n",
       " 'secretary',\n",
       " 'senator',\n",
       " 'minister',\n",
       " 'treasurer',\n",
       " 'chairman',\n",
       " 'commissioner',\n",
       " 'undersecretary',\n",
       " 'physician',\n",
       " 'veterinarian',\n",
       " 'dentist',\n",
       " 'surgeon',\n",
       " 'midwife']"
      ]
     },
     "execution_count": 63,
     "metadata": {},
     "output_type": "execute_result"
    }
   ],
   "source": [
    "words_plus_neighbors_list = list(words_plus_neighbors.keys()) + [\n",
    "    neighbor for neighbors in words_plus_neighbors.values() for neighbor in neighbors\n",
    "]\n",
    "\n",
    "words_plus_neighbors_list"
   ]
  },
  {
   "cell_type": "markdown",
   "metadata": {},
   "source": [
    "### Visualisation with T-SNE\n",
    "\n",
    "Embeddings are vectors with several hundred dimensions. It is therefore not possible to display them in their original space. However, it is possible to apply dimension reduction algorithms to display them in 2 or 3 dimensions. One of the dimension reduction algorithms allowing 2D visualisation is [tSNE](https://en.wikipedia.org/wiki/T-distributed_stochastic_neighbor_embedding). \n",
    "\n",
    "#### Question\n",
    "> * Create a `word_vectors` object of type `np.array` from a list containing all the embeddings of the words in the `words_plus_neighbors` list.\n",
    "> * Create a tSNE object from the `from sklearn.manifold import TSNE` library with the parameters `random_state=0`, `n_iter=2000` and `perplexity=15.0` for a 2-dimensional view.\n",
    "> * Calculate *T* the tSNE transformation of the `word_vectors` by applying function `.fit_transform(word_vectors)` to the tSNE object. This function estimates the parameters of the tSNE transformation and returns the reduced-dimension representation of the vectors used for estimation.\n",
    "> * Use the `scatterplot` function from [seaborn](https://seaborn.pydata.org/generated/seaborn.scatterplot.html) to represent points in 2 dimensions and add word labels using the `plt.annotate` function."
   ]
  },
  {
   "cell_type": "code",
   "execution_count": 70,
   "metadata": {},
   "outputs": [],
   "source": [
    "from sklearn.manifold import TSNE\n",
    "# graphics\n",
    "import matplotlib.pyplot as plt\n",
    "# display matplotlib graphics in notebook\n",
    "%matplotlib inline \n",
    "import seaborn as sns\n",
    "\n",
    "# retrieve the word representation\n",
    "# create the tSNE transform\n",
    "# fit and transform the word vectors, store in T\n",
    "# YOUR CODE HERE\n",
    "\n",
    "embeddings_words_list = [embeddings[words.index(word)] for word in words_plus_neighbors_list]\n",
    "word_vectors = np.array(embeddings_words_list)\n",
    "\n",
    "# create a tSNE object with specified parameters\n",
    "tsne = TSNE(n_components=2, random_state=0, n_iter=2000, perplexity=15.0)\n",
    "\n",
    "# compute the tSNE transformation\n",
    "T = tsne.fit_transform(word_vectors)"
   ]
  },
  {
   "cell_type": "code",
   "execution_count": 71,
   "metadata": {},
   "outputs": [
    {
     "data": {
      "image/png": "[encoded data removed]",
      "text/plain": [
       "<Figure size 1400x800 with 1 Axes>"
      ]
     },
     "metadata": {},
     "output_type": "display_data"
    }
   ],
   "source": [
    "fig = plt.figure()\n",
    "fig.patch.set_facecolor('#f9f9f9')\n",
    "\n",
    "sns.set_theme(rc={'figure.figsize':(14, 8)})\n",
    "sns.set_theme(font_scale=1)\n",
    "\n",
    "sns.scatterplot(x=T[:, 0], y=T[:, 1])\n",
    "\n",
    "for label, x, y in zip(words_plus_neighbors_list, T[:, 0], T[:, 1]):\n",
    "    plt.annotate(label, xy=(x+1, y+1), xytext=(0, 0), textcoords='offset points')"
   ]
  },
  {
   "cell_type": "markdown",
   "metadata": {},
   "source": [
    "### Semantic arithmetic with Word2Vec\n",
    "\n",
    "One of the most original properties of Word2Vec embeddings is that the semantic relationships between vectors can be modelled by arithmetic operations. Given vectors representing the words `king`, `man` and `woman`, it is possible to compute the vector `v` as :  \n",
    "\n",
    "`v = vector(king)-vector(man)+vector(woman)`\n",
    "\n",
    "This operation corresponds to the following semantic relationship: *The king is to the man what the queen is to the woman*, which translates into the following arithmetic: *the concept of king, minus the concept of man plus the concept of woman gives the concept of queen*.\n",
    "\n",
    "In fact, if we look in the embedding for the word whose closest vector is `v`, we find `reine`.\n",
    "\n",
    "\n",
    "We will use a Word2Vec model pre-trained on the French Wac corpus.  This model has been trained on a corpus of 1 billion French words. \n",
    "\n",
    "This embedding is available in 2 formats:\n",
    "- a text format for easy exploration of the model :\n",
    "    - [frWac_non_lem_no_postag_no_phrase_200_cbow_cut100.txt](https://storage.teklia.com/shared/deepnlp-labs/frWac_non_lem_no_postag_no_phrase_200_cbow_cut100.txt)\n",
    "- a binary format that can be loaded using the Gensim library: \n",
    "    - [enWac_non_lem_no_postag_no_phrase_200_cbow_cut100.bin](https://storage.teklia.com/shared/deepnlp-labs/frWac_non_lem_no_postag_no_phrase_200_cbow_cut100.bin)\n",
    "\n",
    "Download the text file onto your machine to analyse it.\n",
    "\n",
    "#### Question: \n",
    ">* Add the file to your .gitignore\n",
    ">* Give the size in Mb of the embedding files\n",
    ">* By exploring the contents of the embedding file in text format, give the number of words for which this model provides embeddings and the size of the embedding for each word.\n",
    "\n",
    "#### Answer: \n",
    ">* enWac_non_lem_no_postag_no_phrase_200_cbow_cut100.bin: 126.1 Mo"
   ]
  },
  {
   "cell_type": "code",
   "execution_count": 8,
   "metadata": {},
   "outputs": [
    {
     "name": "stderr",
     "output_type": "stream",
     "text": [
      "02:51:32 INFO:loading projection weights from data/frWac_non_lem_no_postag_no_phrase_200_cbow_cut100.bin\n",
      "02:51:33 INFO:KeyedVectors lifecycle event {'msg': 'loaded (155562, 200) matrix of type float32 from data/frWac_non_lem_no_postag_no_phrase_200_cbow_cut100.bin', 'binary': True, 'encoding': 'utf8', 'datetime': '2025-03-04T14:51:33.882273', 'gensim': '4.3.3', 'python': '3.12.3 | packaged by Anaconda, Inc. | (main, May  6 2024, 14:43:12) [Clang 14.0.6 ]', 'platform': 'macOS-10.16-x86_64-i386-64bit', 'event': 'load_word2vec_format'}\n"
     ]
    },
    {
     "name": "stdout",
     "output_type": "stream",
     "text": [
      "Nombre de mots : 155562\n",
      "Taille des embeddings : 200\n"
     ]
    }
   ],
   "source": [
    "from gensim.models import KeyedVectors\n",
    "\n",
    "# Charger le fichier binaire des embeddings\n",
    "embedding_file = \"data/frWac_non_lem_no_postag_no_phrase_200_cbow_cut100.bin\"\n",
    "model = KeyedVectors.load_word2vec_format(embedding_file, binary=True)\n",
    "\n",
    "# Obtenir le nombre de mots et la taille des embeddings\n",
    "num_words = len(model.index_to_key)  # Nombre de mots dans le vocabulaire\n",
    "embedding_size = model.vector_size  # Taille des embeddings\n",
    "\n",
    "print(f\"Nombre de mots : {num_words}\")\n",
    "print(f\"Taille des embeddings : {embedding_size}\")\n"
   ]
  },
  {
   "cell_type": "markdown",
   "metadata": {},
   "source": [
    "#### Word similarity\n",
    "\n",
    "We are now going to use the [Gensim] library (https://radimrehurek.com/gensim/) to load the Word2Vec model and use it. \n",
    "\n",
    "#### Question: \n",
    ">* Modify the following code to load the Word2Vec template file in binary format using [load_word2vec](https://radimrehurek.com/gensim/models/keyedvectors.html#how-to-obtain-word-vectors)\n",
    ">* Choose a couple of words and find the closest words according to the model using [most_similar](https://radimrehurek.com/gensim/models/keyedvectors.html#gensim.models.keyedvectors.KeyedVectors.most_similar)\n",
    ">* To guess the meaning of the words ‘yokohama’, ‘kanto’ and ‘shamisen’, look for their nearest neighbours. Explain the results.\n"
   ]
  },
  {
   "cell_type": "code",
   "execution_count": 80,
   "metadata": {},
   "outputs": [
    {
     "name": "stderr",
     "output_type": "stream",
     "text": [
      "03:56:32 INFO:loading projection weights from data/frWac_non_lem_no_postag_no_phrase_200_cbow_cut100.bin\n",
      "03:56:33 INFO:KeyedVectors lifecycle event {'msg': 'loaded (155562, 200) matrix of type float32 from data/frWac_non_lem_no_postag_no_phrase_200_cbow_cut100.bin', 'binary': True, 'encoding': 'utf8', 'datetime': '2025-02-17T15:56:33.953683', 'gensim': '4.3.3', 'python': '3.12.3 | packaged by Anaconda, Inc. | (main, May  6 2024, 14:43:12) [Clang 14.0.6 ]', 'platform': 'macOS-10.16-x86_64-i386-64bit', 'event': 'load_word2vec_format'}\n"
     ]
    },
    {
     "name": "stdout",
     "output_type": "stream",
     "text": [
      "Most similar words to 'chevalier':\n",
      "[('commandeur', 0.6844523549079895), ('chevaliers', 0.6799763441085815), ('écuyer', 0.6333732008934021), ('grand-croix', 0.621898353099823), ('preux', 0.6011075377464294), ('chevalerie', 0.5404019951820374), ('légion', 0.5335969924926758), ('honneur', 0.49536094069480896), ('yvain', 0.4855087101459503), ('insignes', 0.4742659330368042)]\n",
      "\n",
      "Most similar words to 'yokohama':\n",
      "[('tokyo', 0.7117856740951538), ('tôkyô', 0.6314416527748108), ('japon', 0.621522068977356), ('nagoya', 0.61984783411026), ('kyushu', 0.6141084432601929), ('osaka', 0.6123895645141602), ('fukuoka', 0.5612888336181641), ('japonaise', 0.5507327318191528), ('sendai', 0.5496150255203247), ('japonais', 0.5391371846199036)]\n",
      "\n",
      "Most similar words to 'kanto':\n",
      "[('pokémon', 0.5426285266876221), ('mewtwo', 0.5076007843017578), ('pokémons', 0.4970632791519165), ('saito', 0.4549728333950043), ('pokédex', 0.4486732482910156), ('yusuke', 0.4416310787200928), ('osaka', 0.4372846186161041), ('shôgun', 0.4324425756931305), ('jin', 0.42604976892471313), ('honshu', 0.42374101281166077)]\n"
     ]
    }
   ],
   "source": [
    "from gensim.models import KeyedVectors\n",
    "\n",
    "## Load model\n",
    "embedding_file = \"data/frWac_non_lem_no_postag_no_phrase_200_cbow_cut100.bin\"\n",
    "model = KeyedVectors.load_word2vec_format(embedding_file, binary=True, unicode_errors=\"ignore\")\n",
    "\n",
    "\n",
    "## Closest words\n",
    "word1 = \"chevalier\"\n",
    "word2 = \"yokohama\"\n",
    "word3 = \"kanto\"\n",
    "word4 = \"shamisen\"\n",
    "\n",
    "print(f\"Most similar words to '{word1}':\")\n",
    "print(model.most_similar(word1))\n",
    "\n",
    "print(f\"\\nMost similar words to '{word2}':\")\n",
    "print(model.most_similar(word2))\n",
    "\n",
    "print(f\"\\nMost similar words to '{word3}':\")\n",
    "print(model.most_similar(word3))\n",
    "\n"
   ]
  },
  {
   "cell_type": "markdown",
   "metadata": {},
   "source": [
    "#### Semantic arithmetic\n",
    "\n",
    "One of the most original properties of Word2Vec embeddings is that the semantic relationships between vectors can be modelled by arithmetic operations. Given vectors representing the words `king`, `man` and `woman`, it is possible to compute the vector `v` as :  \n",
    "\n",
    "`v = vector(king)-vector(man)+vector(woman)`\n",
    "\n",
    "This operation corresponds to the following semantic relationship: *The king is to the man what the queen is to the woman*, which translates into the following arithmetic: *the concept of king, minus the concept of man plus the concept of woman gives the concept of queen*.\n",
    "\n",
    "In fact, if we look in the embedding for the word whose closest vector is `v`, we find `reine`.\n",
    "\n",
    "#### Question: \n",
    ">* using the function [most_similar](https://radimrehurek.com/gensim/models/keyedvectors.html#gensim.models.keyedvectors.KeyedVectors.most_similar) specifying the arguments `positive` for the vectors to be added and `negative` for the vectors to be subtracted, check the relationship *the concept of king, minus the concept of man plus the concept of woman gives the concept of queen*.\n",
    ">* Using the same method, find XXX in the following semantic relations\n",
    ">   * Paris is to France what XXX is to Japan.\n",
    ">   * Chevalier is to France what XXX is to Japan."
   ]
  },
  {
   "cell_type": "code",
   "execution_count": 98,
   "metadata": {},
   "outputs": [
    {
     "name": "stdout",
     "output_type": "stream",
     "text": [
      "[('pays', 0.6233169436454773), ('corée', 0.5719293355941772), ('grande-bretagne', 0.5023671984672546)]\n",
      "[('pays', 0.5496599078178406), ('corée', 0.5406747460365295), ('chine', 0.5264606475830078)]\n",
      "[('reine', 0.6945513486862183), ('duchesse', 0.624755322933197), ('épouse', 0.6083102822303772)]\n"
     ]
    }
   ],
   "source": [
    "## YOUR CODE HERE\n",
    "print(model.most_similar(positive=[\"france\",\"japon\"], negative=[\"paris\"], topn=3))\n",
    "print(model.most_similar(positive=[\"france\",\"japon\"], negative=[\"chevalier\"], topn=3))\n",
    "print(model.most_similar(positive=[\"roi\",\"femme\"], negative=[\"homme\"], topn=3))\n"
   ]
  },
  {
   "cell_type": "markdown",
   "metadata": {},
   "source": [
    "## Contextual embeddings with BERT \n",
    "\n",
    "BERT was one of the first freely available Transformer language models, trained on large corpora. Many other models are available on HuggingFace.\n",
    "\n",
    "As BERT is a contextual model, it is necessary to have it predict whole sentences in order to study the word embeddings it produces. In this section, we will compare the embeddings obtained for polysemous words according to the sentence in which they are used.\n",
    "\n",
    "In English, *plant* has two meanings: plant and vegetable. With a non-contextual embedding, such as Glove or Colobert, these two meanings of the word plus are associated with an identical embedding. With BERT, we'll see that the same word can have several embeddings depending on the context.\n",
    "\n",
    "First, load the BERT model and tokenizer from HuggingFace : "
   ]
  },
  {
   "cell_type": "code",
   "execution_count": 99,
   "metadata": {},
   "outputs": [
    {
     "data": {
      "application/vnd.jupyter.widget-view+json": {
       "model_id": "6022c3bcc966432ea79f312d375fae36",
       "version_major": 2,
       "version_minor": 0
      },
      "text/plain": [
       "tokenizer_config.json:   0%|          | 0.00/48.0 [00:00<?, ?B/s]"
      ]
     },
     "metadata": {},
     "output_type": "display_data"
    },
    {
     "data": {
      "application/vnd.jupyter.widget-view+json": {
       "model_id": "fecef80ada3b450581c988062410b239",
       "version_major": 2,
       "version_minor": 0
      },
      "text/plain": [
       "vocab.txt:   0%|          | 0.00/232k [00:00<?, ?B/s]"
      ]
     },
     "metadata": {},
     "output_type": "display_data"
    },
    {
     "data": {
      "application/vnd.jupyter.widget-view+json": {
       "model_id": "6c53d58d27964973bc8ddba1c41f154d",
       "version_major": 2,
       "version_minor": 0
      },
      "text/plain": [
       "tokenizer.json:   0%|          | 0.00/466k [00:00<?, ?B/s]"
      ]
     },
     "metadata": {},
     "output_type": "display_data"
    },
    {
     "data": {
      "application/vnd.jupyter.widget-view+json": {
       "model_id": "f941989224ae4b11bf60df1ec168efc3",
       "version_major": 2,
       "version_minor": 0
      },
      "text/plain": [
       "config.json:   0%|          | 0.00/570 [00:00<?, ?B/s]"
      ]
     },
     "metadata": {},
     "output_type": "display_data"
    },
    {
     "data": {
      "application/vnd.jupyter.widget-view+json": {
       "model_id": "2db9c2a4c55c42ae9a6df6a0d7b3cbdb",
       "version_major": 2,
       "version_minor": 0
      },
      "text/plain": [
       "model.safetensors:   0%|          | 0.00/440M [00:00<?, ?B/s]"
      ]
     },
     "metadata": {},
     "output_type": "display_data"
    },
    {
     "data": {
      "text/plain": [
       "BertModel(\n",
       "  (embeddings): BertEmbeddings(\n",
       "    (word_embeddings): Embedding(30522, 768, padding_idx=0)\n",
       "    (position_embeddings): Embedding(512, 768)\n",
       "    (token_type_embeddings): Embedding(2, 768)\n",
       "    (LayerNorm): LayerNorm((768,), eps=1e-12, elementwise_affine=True)\n",
       "    (dropout): Dropout(p=0.1, inplace=False)\n",
       "  )\n",
       "  (encoder): BertEncoder(\n",
       "    (layer): ModuleList(\n",
       "      (0-11): 12 x BertLayer(\n",
       "        (attention): BertAttention(\n",
       "          (self): BertSdpaSelfAttention(\n",
       "            (query): Linear(in_features=768, out_features=768, bias=True)\n",
       "            (key): Linear(in_features=768, out_features=768, bias=True)\n",
       "            (value): Linear(in_features=768, out_features=768, bias=True)\n",
       "            (dropout): Dropout(p=0.1, inplace=False)\n",
       "          )\n",
       "          (output): BertSelfOutput(\n",
       "            (dense): Linear(in_features=768, out_features=768, bias=True)\n",
       "            (LayerNorm): LayerNorm((768,), eps=1e-12, elementwise_affine=True)\n",
       "            (dropout): Dropout(p=0.1, inplace=False)\n",
       "          )\n",
       "        )\n",
       "        (intermediate): BertIntermediate(\n",
       "          (dense): Linear(in_features=768, out_features=3072, bias=True)\n",
       "          (intermediate_act_fn): GELUActivation()\n",
       "        )\n",
       "        (output): BertOutput(\n",
       "          (dense): Linear(in_features=3072, out_features=768, bias=True)\n",
       "          (LayerNorm): LayerNorm((768,), eps=1e-12, elementwise_affine=True)\n",
       "          (dropout): Dropout(p=0.1, inplace=False)\n",
       "        )\n",
       "      )\n",
       "    )\n",
       "  )\n",
       "  (pooler): BertPooler(\n",
       "    (dense): Linear(in_features=768, out_features=768, bias=True)\n",
       "    (activation): Tanh()\n",
       "  )\n",
       ")"
      ]
     },
     "execution_count": 99,
     "metadata": {},
     "output_type": "execute_result"
    }
   ],
   "source": [
    "import torch\n",
    "from transformers import BertTokenizer, BertModel\n",
    "tokenizer = BertTokenizer.from_pretrained('bert-base-uncased')\n",
    "# Load pre-trained model \n",
    "model = BertModel.from_pretrained('bert-base-uncased',\n",
    "                                  output_hidden_states = True, # to access the hidden states\n",
    "                                  )\n",
    "# set the model to \"evaluation\" mode\n",
    "model.eval()"
   ]
  },
  {
   "cell_type": "markdown",
   "metadata": {},
   "source": [
    "### Tokenizer\n",
    "\n",
    "Language models are trained with a specific breakdown of sentences into tokens. These tokens can be words or parts of words. It is necessary to use the tokenizer corresponding to each model.\n",
    "\n",
    "tokenizer.vocab.keys() gives the list of all the tokens known for the language model. \n",
    "\n",
    "#### Question\n",
    ">* How many different tokens are known to the BERT tokenizer?\n",
    ">* Display a hundred tokens at random. What do you find?"
   ]
  },
  {
   "cell_type": "code",
   "execution_count": 101,
   "metadata": {},
   "outputs": [
    {
     "name": "stdout",
     "output_type": "stream",
     "text": [
      "The BERT tokenizer knows 30522 different tokens.\n",
      "100 random tokens from the BERT vocabulary:\n",
      "['nadu', '##break', '##ز', 'trilogy', '[unused682]', 'jocelyn', '##ki', 'indefinite', 'simone', 'haiti', 'transport', 'specialised', 'ohio', 'criticizing', 'intellect', 'server', 'enter', 'government', '##asi', 'mortals', 'watering', '##iac', 'buddies', 'smoking', 'colored', '##combe', 'reacting', 'stuck', 'imposed', 'programmer', 'til', 'devices', 'afford', 'sanders', 'arsenal', 'piano', 'functioned', '##ffer', 'catches', '1990', 'mutter', '##je', 'toxin', 'nirvana', '##o', '##rand', 'exploit', 'daniela', '1861', '##خ', '##tore', 'postage', 'roast', 'chaired', 'ship', 'adler', 'ignited', 'unmarried', 'afghan', 'pry', '[unused556]', '##॥', '##ј', 'moniker', 'hereditary', 'af', 'manifold', '##eld', 'scrubbed', '##therapy', 'alvarez', 'franchises', 'copies', 'monte', 'supremacy', 'tinged', 'feb', 'verified', 'forehead', 'sts', '##cci', 'saddle', 'cite', 'established', '##oshi', 'cole', 'neck', '##osh', 'falsely', 'relocate', 'el', 'installation', '##eron', 'faith', '##ten', 'arrival', '地', 'scientology', 'militias', '##uve']\n"
     ]
    }
   ],
   "source": [
    "import random\n",
    "num_tokens = len(tokenizer.vocab)\n",
    "print(f\"The BERT tokenizer knows {num_tokens} different tokens.\")\n",
    "\n",
    "# Get the list of tokens\n",
    "tokens_list = list(tokenizer.vocab.keys())\n",
    "\n",
    "# Select 100 random tokens\n",
    "random_tokens = random.sample(tokens_list, 100)\n",
    "\n",
    "# Display the tokens\n",
    "print(\"100 random tokens from the BERT vocabulary:\")\n",
    "print(random_tokens)\n"
   ]
  },
  {
   "cell_type": "markdown",
   "metadata": {},
   "source": [
    "The tokenizer splits sentences and transforms the elements (words or sub-words) into clues. \n",
    "\n",
    "BERT can process several sentences, but you need to tell it how the sentences (segments) have been split, with an index: 0 for the first sentence, 1 for the second. \n",
    "\n",
    "Two specific tokens must also be added: \n",
    "* CLS], a specific token used for sentence classification\n",
    "* SEP], the end of sentence token.\n",
    "\n",
    "#### Question\n",
    ">* Apply the bert_tokenize function to the 3 phases and keep the 3 vectors (index, token, segment).\n",
    ">* Display this information for each of the sentences and check that the word *plant* has the same token index in the two sentences in which it appears."
   ]
  },
  {
   "cell_type": "code",
   "execution_count": 102,
   "metadata": {},
   "outputs": [
    {
     "name": "stdout",
     "output_type": "stream",
     "text": [
      "\n",
      "Sentence 1:\n",
      "[CLS]: 101\n",
      "the: 1996\n",
      "plant: 3269\n",
      "has: 2038\n",
      "reached: 2584\n",
      "its: 2049\n",
      "maximal: 29160\n",
      "level: 2504\n",
      "of: 1997\n",
      "production: 2537\n",
      ".: 1012\n",
      "[SEP]: 102\n",
      "\n",
      "Sentence 2:\n",
      "[CLS]: 101\n",
      "the: 1996\n",
      "cars: 3765\n",
      "are: 2024\n",
      "assembled: 9240\n",
      "inside: 2503\n",
      "the: 1996\n",
      "factory: 4713\n",
      ".: 1012\n",
      "[SEP]: 102\n",
      "\n",
      "Sentence 3:\n",
      "[CLS]: 101\n",
      "a: 1037\n",
      "plant: 3269\n",
      "needs: 3791\n",
      "sunlight: 9325\n",
      "and: 1998\n",
      "water: 2300\n",
      "to: 2000\n",
      "grow: 4982\n",
      "well: 2092\n",
      ".: 1012\n",
      "[SEP]: 102\n",
      "\n",
      "'plant' index in Sentence 1: 3269\n",
      "'plant' index in Sentence 3: 3269\n",
      "\n",
      "The word 'plant' has the same token index in both sentences.\n"
     ]
    }
   ],
   "source": [
    "snt1 = \"The plant has reached its maximal level of production.\"\n",
    "snt2 = \"The cars are assembled inside the factory.\"\n",
    "snt3 = \"A plant needs sunlight and water to grow well.\"\n",
    "\n",
    "\n",
    "def bert_tokenize(snt):\n",
    "    \"\"\" Apply the BERT tokenizer to a list of words representing a sentence\n",
    "        and return 3 lists: \n",
    "        - list of token indx\n",
    "        - list of token for debugging, not used by the BERT model\n",
    "        - list of sentence index\n",
    "        \"\"\"\n",
    "    # Add the special tokens.\n",
    "    tagged_snt = \"[CLS] \" + snt + \" [SEP]\" \n",
    "    # Tokenize\n",
    "    tokenized_snt = tokenizer.tokenize(tagged_snt)\n",
    "    # convert tokens to indices\n",
    "    indexed_snt = tokenizer.convert_tokens_to_ids(tokenized_snt)\n",
    "    # mark the words in sentence.\n",
    "    segments_ids = [1] * len(tokenized_snt)\n",
    "\n",
    "    return (indexed_snt, tokenized_snt, segments_ids)\n",
    "\n",
    "# YOUR CODE HERE\n",
    "\n",
    "# Apply the function to each sentence\n",
    "indexed_snt1, tokenized_snt1, segments_snt1 = bert_tokenize(snt1)\n",
    "indexed_snt2, tokenized_snt2, segments_snt2 = bert_tokenize(snt2)\n",
    "indexed_snt3, tokenized_snt3, segments_snt3 = bert_tokenize(snt3)\n",
    "\n",
    "# Display tokenized results\n",
    "print(\"\\nSentence 1:\")\n",
    "for idx, token in zip(indexed_snt1, tokenized_snt1):\n",
    "    print(f\"{token}: {idx}\")\n",
    "\n",
    "print(\"\\nSentence 2:\")\n",
    "for idx, token in zip(indexed_snt2, tokenized_snt2):\n",
    "    print(f\"{token}: {idx}\")\n",
    "\n",
    "print(\"\\nSentence 3:\")\n",
    "for idx, token in zip(indexed_snt3, tokenized_snt3):\n",
    "    print(f\"{token}: {idx}\")\n",
    "\n",
    "# Check if \"plant\" has the same token index in both sentences\n",
    "plant_index1 = indexed_snt1[tokenized_snt1.index(\"plant\")]\n",
    "plant_index3 = indexed_snt3[tokenized_snt3.index(\"plant\")]\n",
    "\n",
    "print(f\"\\n'plant' index in Sentence 1: {plant_index1}\")\n",
    "print(f\"'plant' index in Sentence 3: {plant_index3}\")\n",
    "\n",
    "if plant_index1 == plant_index3:\n",
    "    print(\"\\nThe word 'plant' has the same token index in both sentences.\")\n",
    "else:\n",
    "    print(\"\\nThe word 'plant' has a different token index in the two sentences.\")\n"
   ]
  },
  {
   "cell_type": "markdown",
   "metadata": {},
   "source": [
    "## Inference\n",
    "\n",
    "To calculate embeddings, we need to make a prediction using the BERT model on a complete sentence. The *predict_hidden* function converts the token and segment index lists into a pytorch tensor and applies the model. \n",
    "\n",
    "The model used is a 12-layer model. We will use the last hidden layer of the model as an embedding to represent the words. Other solutions are possible, such as concatenation or averaging of several layers.\n",
    "\n",
    "\n",
    "#### Question\n",
    ">* Apply the model to each of the 3 sentences and store the resulting embeddings (tensors).\n",
    ">* Display the dimension of the resulting tensors. What is the dimension of the embedding vector for each word?"
   ]
  },
  {
   "cell_type": "code",
   "execution_count": 103,
   "metadata": {},
   "outputs": [
    {
     "name": "stdout",
     "output_type": "stream",
     "text": [
      "Shape of embeddings for Sentence 1: torch.Size([12, 768])\n",
      "Shape of embeddings for Sentence 2: torch.Size([10, 768])\n",
      "Shape of embeddings for Sentence 3: torch.Size([12, 768])\n",
      "\n",
      "The dimension of each word embedding vector is: 768\n"
     ]
    }
   ],
   "source": [
    "\n",
    "def predict_hidden(indexed_snt, segments_ids):\n",
    "    \"\"\"Apply the BERT model to the input token indices and segment indices\n",
    "        and return the last hidden layer\n",
    "    \"\"\"\n",
    "    with torch.no_grad():\n",
    "        # Convert inputs to PyTorch tensors\n",
    "        tokens_tensor = torch.tensor([indexed_snt])\n",
    "        segments_tensors = torch.tensor([segments_ids])\n",
    "        outputs = model(tokens_tensor, segments_tensors)\n",
    "        hidden_states = outputs[2]\n",
    "        one_hidden_layer = hidden_states[12][0]\n",
    "        \n",
    "    return one_hidden_layer\n",
    "\n",
    "# YOUR CODE HERE\n",
    "\n",
    "indexed_snt1, tokenized_snt1, segments_snt1 = bert_tokenize(snt1)\n",
    "indexed_snt2, tokenized_snt2, segments_snt2 = bert_tokenize(snt2)\n",
    "indexed_snt3, tokenized_snt3, segments_snt3 = bert_tokenize(snt3)\n",
    "\n",
    "# Apply BERT model\n",
    "embedding_snt1 = predict_hidden(indexed_snt1, segments_snt1)\n",
    "embedding_snt2 = predict_hidden(indexed_snt2, segments_snt2)\n",
    "embedding_snt3 = predict_hidden(indexed_snt3, segments_snt3)\n",
    "\n",
    "# Display the dimensions of the embeddings\n",
    "print(f\"Shape of embeddings for Sentence 1: {embedding_snt1.shape}\")\n",
    "print(f\"Shape of embeddings for Sentence 2: {embedding_snt2.shape}\")\n",
    "print(f\"Shape of embeddings for Sentence 3: {embedding_snt3.shape}\")\n",
    "\n",
    "# Extract the dimension of a single word embedding\n",
    "embedding_dim = embedding_snt1.shape[1]\n",
    "print(f\"\\nThe dimension of each word embedding vector is: {embedding_dim}\")"
   ]
  },
  {
   "cell_type": "markdown",
   "metadata": {},
   "source": [
    "The hidden layer returned by the *predict_hidden* function is a tensor containing a context vector representing each token in the input sentence. We can use this vector to represent the meaning of this word as a function of its context. We're going to compare the representation of the polysemous word *plant* as a function of its context.\n",
    "\n",
    "#### Question\n",
    ">* Using the [cosine distance](https://docs.scipy.org/doc/scipy/reference/generated/scipy.spatial.distance.cosine.html), calculate the following distances:\n",
    "> * distance between *plant* in sentence 1 (plant-factory) and *plant* in sentence 3 (plant-vegetal)\n",
    "> * distance between *plant* in sentence 1 (plant-factory) and *factory* in sentence 2 (plant-vegetal) \n",
    "> * distance between *plant* in sentence 1 (plant-factory) and *production* in sentence 2 \n",
    "> distance between *plant* in sentence 3 (plant-vegetal) and *production* in sentence 2 \n",
    "> How can we interpret these distances?"
   ]
  },
  {
   "cell_type": "code",
   "execution_count": 112,
   "metadata": {},
   "outputs": [
    {
     "name": "stdout",
     "output_type": "stream",
     "text": [
      "Distance entre 'plant' (phrase 1) et 'plant' (phrase 3): 0.4986629014088184\n",
      "Distance entre 'plant' (phrase 1) et 'factory' (phrase 2): 0.31225680432199554\n",
      "Distance entre 'plant' (phrase 1) et 'production' (phrase 1): 0.24017350123199277\n",
      "Distance entre 'plant' (phrase 3) et 'production' (phrase 1): 0.6200192392227519\n"
     ]
    }
   ],
   "source": [
    "from scipy.spatial.distance import cosine\n",
    "\n",
    "\n",
    "# Extraction des embeddings des mots spécifiques\n",
    "plant_1 = embedding_snt1[tokenized_snt1.index(\"plant\")]  \n",
    "plant_3 = embedding_snt3[tokenized_snt3.index(\"plant\")] \n",
    "factory_2 = embedding_snt2[tokenized_snt2.index(\"factory\")]  \n",
    "production_1 = embedding_snt1[tokenized_snt1.index(\"production\")]  \n",
    "\n",
    "# Calcul des distances cosinus entre les embeddings\n",
    "distance_plant1_plant3 = cosine(plant_1, plant_3)  \n",
    "distance_plant1_factory2 = cosine(plant_1, factory_2) \n",
    "distance_plant1_production1 = cosine(plant_1, production_1)  \n",
    "distance_plant3_production1 = cosine(plant_3, production_1)  \n",
    "\n",
    "# Affichage des distances calculées\n",
    "print(\"Distance entre 'plant' (phrase 1) et 'plant' (phrase 3):\", distance_plant1_plant3)\n",
    "print(\"Distance entre 'plant' (phrase 1) et 'factory' (phrase 2):\", distance_plant1_factory2)\n",
    "print(\"Distance entre 'plant' (phrase 1) et 'production' (phrase 1):\", distance_plant1_production1)\n",
    "print(\"Distance entre 'plant' (phrase 3) et 'production' (phrase 1):\", distance_plant3_production1)\n"
   ]
  },
  {
   "cell_type": "markdown",
   "metadata": {},
   "source": [
    "> On analyse ici la cosine distance et non la cosine similarity. Ainsi plus la distance est faible et plus les mots sont proches. \n",
    "> Le mot plant dans la phrase 1 est proche du mot factory de la phrase 2 (0.31) et du mot production de la phrase 1 (0.24). En revanche le mot plant de la phrase 1 qui se réfère à l'usine est éloigné du mot plant de la phrase 3 (0.50) tout comme ce même mot plant de la phrase 3 et le mot production de la phrase 1 (0.62). Cela est cohérent avec ce qu'on aimerait puisqu'on prend en compte le contexte : \n",
    "> - un même mot peut avoir 2 embeddings. "
   ]
  }
 ],
 "metadata": {
  "kernelspec": {
   "display_name": "test",
   "language": "python",
   "name": "python3"
  },
  "language_info": {
   "codemirror_mode": {
    "name": "ipython",
    "version": 3
   },
   "file_extension": ".py",
   "mimetype": "text/x-python",
   "name": "python",
   "nbconvert_exporter": "python",
   "pygments_lexer": "ipython3",
   "version": "3.12.3"
  }
 },
 "nbformat": 4,
 "nbformat_minor": 2
}
